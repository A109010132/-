{
  "nbformat": 4,
  "nbformat_minor": 0,
  "metadata": {
    "colab": {
      "name": "劉凡瑋-week11-課堂練習.ipynb",
      "provenance": [],
      "authorship_tag": "ABX9TyNoeQWMdR7klOiIaFQVhOYK",
      "include_colab_link": true
    },
    "kernelspec": {
      "name": "python3",
      "display_name": "Python 3"
    },
    "language_info": {
      "name": "python"
    }
  },
  "cells": [
    {
      "cell_type": "markdown",
      "metadata": {
        "id": "view-in-github",
        "colab_type": "text"
      },
      "source": [
        "<a href=\"https://colab.research.google.com/github/A109010132/-/blob/main/%E5%8A%89%E5%87%A1%E7%91%8B_week11_%E8%AA%B2%E5%A0%82%E7%B7%B4%E7%BF%92.ipynb\" target=\"_parent\"><img src=\"https://colab.research.google.com/assets/colab-badge.svg\" alt=\"Open In Colab\"/></a>"
      ]
    },
    {
      "cell_type": "code",
      "metadata": {
        "colab": {
          "base_uri": "https://localhost:8080/"
        },
        "id": "gC8gInAjoZ24",
        "outputId": "eef7910d-69f9-4aa5-c082-e56d96074448"
      },
      "source": [
        "In [1]: ## 方法(一):直接鍵入True或False\n",
        "...: True\n",
        "...: False\n",
        "True\n",
        "False\n",
        "In [2]: ## 方法(二):用bool()函式建立。\n",
        "...: bool(1)\n",
        "...: bool(0)\n",
        "True\n",
        "False"
      ],
      "execution_count": 1,
      "outputs": [
        {
          "output_type": "execute_result",
          "data": {
            "text/plain": [
              "False"
            ]
          },
          "metadata": {
            "tags": []
          },
          "execution_count": 1
        }
      ]
    },
    {
      "cell_type": "code",
      "metadata": {
        "colab": {
          "base_uri": "https://localhost:8080/"
        },
        "id": "5IWT8Axtoj1m",
        "outputId": "b1df24ff-fdfc-48cf-ff61-8f9c7e25da3a"
      },
      "source": [
        "In [2]: ## True 跟數值 1 相等; False 跟數值 0 相等。\n",
        "...: False == 0\n",
        "...: True == 1\n",
        "True\n",
        "True\n",
        "In [3]: ## 數值運算中可以納入了布林。\n",
        "...: False + 3 # False為0\n",
        "...: True + 3 # True為1"
      ],
      "execution_count": 2,
      "outputs": [
        {
          "output_type": "execute_result",
          "data": {
            "text/plain": [
              "4"
            ]
          },
          "metadata": {
            "tags": []
          },
          "execution_count": 2
        }
      ]
    },
    {
      "cell_type": "code",
      "metadata": {
        "colab": {
          "base_uri": "https://localhost:8080/"
        },
        "id": "RAaLSEkhoqJt",
        "outputId": "b982d6e8-27c4-47bf-85f5-8b02ff941bd4"
      },
      "source": [
        "False+5\n",
        "False*5"
      ],
      "execution_count": 3,
      "outputs": [
        {
          "output_type": "execute_result",
          "data": {
            "text/plain": [
              "0"
            ]
          },
          "metadata": {
            "tags": []
          },
          "execution_count": 3
        }
      ]
    },
    {
      "cell_type": "code",
      "metadata": {
        "colab": {
          "base_uri": "https://localhost:8080/"
        },
        "id": "brl7hF-spkiM",
        "outputId": "e607bf17-77cb-417c-e3b4-7e7ff2f01596"
      },
      "source": [
        "In [1]: ## 布林（一）：比較關係運算子 = 比較運算子 = 關係運算子\n",
        "   ...: ## 比較運算子用於比較兩數的大於、小於和等於關係。\n",
        "   ...: \n",
        "   ...: print(8 == 7) # 判斷 8 是否等於 7，請注意不要混淆＝和==。\n",
        "   ...: print(8 != 7) # 判斷 8 是否不等於 7\n",
        "   ...: print(8 > 7) # 判斷 8 是否大於 7\n",
        "   ...: print(8 >= 7) # 判斷 8 是否大於等於 7\n",
        "   ...: print(8 < 7) # 判斷 8 是否小於 7\n",
        "   ...: print(8 <= 7) # 判斷 8 是否小於等於 7"
      ],
      "execution_count": 4,
      "outputs": [
        {
          "output_type": "stream",
          "text": [
            "False\n",
            "True\n",
            "True\n",
            "True\n",
            "False\n",
            "False\n"
          ],
          "name": "stdout"
        }
      ]
    },
    {
      "cell_type": "code",
      "metadata": {
        "colab": {
          "base_uri": "https://localhost:8080/"
        },
        "id": "G8oU_HG8p63M",
        "outputId": "6017a01f-ddd6-48bc-ad41-1d2e817127c3"
      },
      "source": [
        "x=10\n",
        "x==10"
      ],
      "execution_count": 5,
      "outputs": [
        {
          "output_type": "execute_result",
          "data": {
            "text/plain": [
              "True"
            ]
          },
          "metadata": {
            "tags": []
          },
          "execution_count": 5
        }
      ]
    },
    {
      "cell_type": "code",
      "metadata": {
        "colab": {
          "base_uri": "https://localhost:8080/"
        },
        "id": "qHro_IGPqAA0",
        "outputId": "6e6724b1-fd5a-42dd-9499-f425a0b1cb88"
      },
      "source": [
        "## Input\n",
        "\n",
        "number = int(input(\"Enter the last digit of ID crad: \"))\n",
        "number = int(number)\n",
        "\n",
        "## Process\n",
        "print(number % 2 == 1)\n",
        "\n",
        "## Output\n",
        "print(\",,,,,,,,\")"
      ],
      "execution_count": 15,
      "outputs": [
        {
          "output_type": "stream",
          "text": [
            "Enter the last digit of ID crad: 3\n",
            "True\n",
            ",,,,,,,,\n"
          ],
          "name": "stdout"
        }
      ]
    }
  ]
}