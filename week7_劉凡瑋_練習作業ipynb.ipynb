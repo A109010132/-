{
  "nbformat": 4,
  "nbformat_minor": 0,
  "metadata": {
    "colab": {
      "name": "week7-劉凡瑋-練習作業ipynb",
      "provenance": [],
      "authorship_tag": "ABX9TyNdS80hwm3XohWxdiZMqYX8",
      "include_colab_link": true
    },
    "kernelspec": {
      "name": "python3",
      "display_name": "Python 3"
    },
    "language_info": {
      "name": "python"
    }
  },
  "cells": [
    {
      "cell_type": "markdown",
      "metadata": {
        "id": "view-in-github",
        "colab_type": "text"
      },
      "source": [
        "<a href=\"https://colab.research.google.com/github/A109010132/-/blob/main/week7_%E5%8A%89%E5%87%A1%E7%91%8B_%E7%B7%B4%E7%BF%92%E4%BD%9C%E6%A5%ADipynb.ipynb\" target=\"_parent\"><img src=\"https://colab.research.google.com/assets/colab-badge.svg\" alt=\"Open In Colab\"/></a>"
      ]
    },
    {
      "cell_type": "code",
      "metadata": {
        "colab": {
          "base_uri": "https://localhost:8080/",
          "height": 131
        },
        "id": "xaC0SX6bfw48",
        "outputId": "04fed4ce-6872-4b36-9828-4965c3229f17"
      },
      "source": [
        "[1] total = 0\n",
        "2\n",
        "3 fruit = \"Apple\"\n",
        "4 number = 2\n",
        "5 total = total = number\n",
        "6 # print(\"摘了\"fruit, \"摘了\", number, \"個, 總共摘了\", total, )"
      ],
      "execution_count": 12,
      "outputs": [
        {
          "output_type": "error",
          "ename": "SyntaxError",
          "evalue": "ignored",
          "traceback": [
            "\u001b[0;36m  File \u001b[0;32m\"<ipython-input-12-b074f50b6902>\"\u001b[0;36m, line \u001b[0;32m1\u001b[0m\n\u001b[0;31m    [1] total = 0\u001b[0m\n\u001b[0m            ^\u001b[0m\n\u001b[0;31mSyntaxError\u001b[0m\u001b[0;31m:\u001b[0m invalid syntax\n"
          ]
        }
      ]
    },
    {
      "cell_type": "code",
      "metadata": {
        "colab": {
          "base_uri": "https://localhost:8080/"
        },
        "id": "nMcovYBtjRZI",
        "outputId": "8a30bffb-29e7-483c-dda6-1aef55178fac"
      },
      "source": [
        "In [1]: name = input('請問貴姓大名？')\n",
        "...: print('你好，', name)\n",
        "...:\n",
        "...: age = int(input('請問年紀？'))\n",
        "...: print('原來你', age ,'歲')\n",
        "...:\n",
        "...: weight = float(input('請問體重？'))\n",
        "...: print('體重為', weight)"
      ],
      "execution_count": 7,
      "outputs": [
        {
          "output_type": "stream",
          "text": [
            "請問貴姓大名？william\n",
            "你好， william\n",
            "請問年紀？19\n",
            "原來你 19 歲\n",
            "請問體重？54\n",
            "體重為 54.0\n"
          ],
          "name": "stdout"
        }
      ]
    },
    {
      "cell_type": "code",
      "metadata": {
        "colab": {
          "base_uri": "https://localhost:8080/"
        },
        "id": "LUUrMExqkNym",
        "outputId": "a2e86b12-e9f4-495f-c1b8-b467d7a8f11b"
      },
      "source": [
        "In [1]: ## 給我半徑、用公式計算圓面積與周長\n",
        "...: ## Input\n",
        "...: radius = float(input('請輸入半徑？'))\n",
        "...: PI = 3.14159\n",
        "...: ## Process\n",
        "...: circumference = 2 * PI * radius\n",
        "...: area = radius * radius * PI\n",
        "...: ## Output\n",
        "...: print(f'圓周長為 {circumference}， 圓面積為 {area}。')"
      ],
      "execution_count": 8,
      "outputs": [
        {
          "output_type": "stream",
          "text": [
            "請輸入半徑？10\n",
            "圓周長為 62.8318， 圓面積為 314.159。\n"
          ],
          "name": "stdout"
        }
      ]
    },
    {
      "cell_type": "code",
      "metadata": {
        "colab": {
          "base_uri": "https://localhost:8080/",
          "height": 131
        },
        "id": "Mv5150uYlt9H",
        "outputId": "bb0e04d0-0220-4f4c-e9b4-e65ecb0eaa62"
      },
      "source": [
        "1## Input\n",
        "2PI = 3.14\n",
        "3r1 = input(\"Enter radius 1: \")\n",
        "4r2 = input(\"Enter radius 2: \")\n",
        "5r1 = float(r1)\n",
        "6r2 = float(r2)\n",
        "7\n",
        "8## Process\n",
        "9 areal = PI * r1 * r1\n",
        "10 areal = PI * r2 * r2\n",
        "11 area = areal - area2\n",
        "12\n",
        "13## Output \n",
        "14 print (f\".................{area}\")"
      ],
      "execution_count": 11,
      "outputs": [
        {
          "output_type": "error",
          "ename": "SyntaxError",
          "evalue": "ignored",
          "traceback": [
            "\u001b[0;36m  File \u001b[0;32m\"<ipython-input-11-fe0e6c7ed913>\"\u001b[0;36m, line \u001b[0;32m2\u001b[0m\n\u001b[0;31m    2PI = 3.14\u001b[0m\n\u001b[0m      ^\u001b[0m\n\u001b[0;31mSyntaxError\u001b[0m\u001b[0;31m:\u001b[0m invalid syntax\n"
          ]
        }
      ]
    },
    {
      "cell_type": "code",
      "metadata": {
        "colab": {
          "base_uri": "https://localhost:8080/"
        },
        "id": "w4LjU3O8niTo",
        "outputId": "e3df5556-e344-456c-a00e-908064f37c01"
      },
      "source": [
        "In [1]: ## Input\n",
        "...: c = float(input('請輸入攝氏溫度？'))\n",
        "...:\n",
        "...: ## Process\n",
        "...: f = c * 9/5 + 32\n",
        "...:\n",
        "...: ## Output\n",
        "...: ## print('華氏溫度')"
      ],
      "execution_count": 16,
      "outputs": [
        {
          "output_type": "stream",
          "text": [
            "請輸入攝氏溫度？10\n"
          ],
          "name": "stdout"
        }
      ]
    }
  ]
}