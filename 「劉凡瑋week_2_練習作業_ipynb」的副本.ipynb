{
  "nbformat": 4,
  "nbformat_minor": 0,
  "metadata": {
    "colab": {
      "name": "「劉凡瑋week.2-練習作業-ipynb」的副本",
      "provenance": [],
      "collapsed_sections": [],
      "authorship_tag": "ABX9TyPhE/4FC2KT9AexCXzuOV1W",
      "include_colab_link": true
    },
    "kernelspec": {
      "name": "python3",
      "display_name": "Python 3"
    }
  },
  "cells": [
    {
      "cell_type": "markdown",
      "metadata": {
        "id": "view-in-github",
        "colab_type": "text"
      },
      "source": [
        "<a href=\"https://colab.research.google.com/github/A109010132/-/blob/main/%E3%80%8C%E5%8A%89%E5%87%A1%E7%91%8Bweek_2_%E7%B7%B4%E7%BF%92%E4%BD%9C%E6%A5%AD_ipynb%E3%80%8D%E7%9A%84%E5%89%AF%E6%9C%AC.ipynb\" target=\"_parent\"><img src=\"https://colab.research.google.com/assets/colab-badge.svg\" alt=\"Open In Colab\"/></a>"
      ]
    },
    {
      "cell_type": "code",
      "metadata": {
        "colab": {
          "base_uri": "https://localhost:8080/"
        },
        "id": "haqxH9SwR9lB",
        "outputId": "36045a55-7df1-4362-8983-61ad9fc0607d"
      },
      "source": [
        "print(1+1)"
      ],
      "execution_count": null,
      "outputs": [
        {
          "output_type": "stream",
          "text": [
            "2\n"
          ],
          "name": "stdout"
        }
      ]
    },
    {
      "cell_type": "code",
      "metadata": {
        "colab": {
          "base_uri": "https://localhost:8080/"
        },
        "id": "HOEt0hCTT4L3",
        "outputId": "bc7c50a0-1c0f-44be-d51b-8b54d5e8567e"
      },
      "source": [
        "print(\"Hello World\")"
      ],
      "execution_count": null,
      "outputs": [
        {
          "output_type": "stream",
          "text": [
            "Hello World\n"
          ],
          "name": "stdout"
        }
      ]
    },
    {
      "cell_type": "code",
      "metadata": {
        "id": "Nx8iHe-cUqpv"
      },
      "source": [
        ""
      ],
      "execution_count": null,
      "outputs": []
    },
    {
      "cell_type": "markdown",
      "metadata": {
        "id": "W0rRxIPocV0v"
      },
      "source": [
        "Google Colab 操作步驟\r\n",
        "step 1\r\n",
        "step 2\r\n",
        "step 3\r\n",
        "回家作業"
      ]
    }
  ]
}