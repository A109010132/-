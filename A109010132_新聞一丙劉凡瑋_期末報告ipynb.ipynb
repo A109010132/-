{
  "nbformat": 4,
  "nbformat_minor": 0,
  "metadata": {
    "colab": {
      "name": "A109010132-新聞一丙劉凡瑋-期末報告ipynb",
      "provenance": [],
      "authorship_tag": "ABX9TyN8DVK7xeRFWuxxm78mOtND",
      "include_colab_link": true
    },
    "kernelspec": {
      "name": "python3",
      "display_name": "Python 3"
    },
    "language_info": {
      "name": "python"
    }
  },
  "cells": [
    {
      "cell_type": "markdown",
      "metadata": {
        "id": "view-in-github",
        "colab_type": "text"
      },
      "source": [
        "<a href=\"https://colab.research.google.com/github/A109010132/-/blob/main/A109010132_%E6%96%B0%E8%81%9E%E4%B8%80%E4%B8%99%E5%8A%89%E5%87%A1%E7%91%8B_%E6%9C%9F%E6%9C%AB%E5%A0%B1%E5%91%8Aipynb.ipynb\" target=\"_parent\"><img src=\"https://colab.research.google.com/assets/colab-badge.svg\" alt=\"Open In Colab\"/></a>"
      ]
    },
    {
      "cell_type": "code",
      "metadata": {
        "colab": {
          "base_uri": "https://localhost:8080/"
        },
        "id": "D7dQkDjOQL4o",
        "outputId": "ad997199-cb62-4078-a595-e159fc736a61"
      },
      "source": [
        "name = input(\"嗨你好請問你是\")\n",
        "print(f\"你好{name}你怎麼會出現在這裡?是發生甚麼事嗎?\")\n",
        "print(\"主角回:我的狗不見了你有看到一隻哈士奇嗎?\")\n",
        "print(\"他在前面那個岔路出現過\")\n",
        "answer = input(\"到了岔路後要走(A or Ｂ)\")\n",
        "...\n",
        "...\n",
        "if answer == \"B\":\n",
        " print(\"走了一小段路後突然有人攔住說\")\n",
        " print(\"你是來找狗的嗎？如果是的話要在之前那個岔路往A走\")\n",
        " print(\"主角：好那我走回去看看\")\n",
        " print(\"請重新開始\")\n",
        "else:\n",
        "   print(\"看到了一個鐵皮屋\")\n",
        "   print(\"鐵皮屋裡傳來奇怪的味道\")\n",
        "   print(\"你帶著緊張的心情慢慢靠近\")\n",
        "   print(\"到了鐵皮屋門口你發現裡面有狗叫聲\")\n",
        "   print(\"在外面觀察了一下便走了進去\")\n",
        "   print(\"進去了後奇怪的味道越來越強烈\")\n",
        "   print(\"你也聽到了一些微弱的叫聲\")\n",
        "   print(\"你便往地下室走去\")\n",
        "   print(\"地下室傳來金屬撞擊的聲音\")\n",
        "   print(\"你很擔心你的狗是否安全\")\n",
        "   print(\"馬上跑了過去\")\n",
        "   print(\"結果發現\")\n",
        "   print(\"你家的狗跟其他狗聚在一起聊天\")\n",
        "   print(\"你的哈士奇還會煮飯\")\n",
        "   print(\"哈士奇問你要不要吃一點\")\n",
        "answer = input(\"Yes or Yes\")\n",
        "if answer == \"Yes\":\n",
        "    print(\"吃了後發現還不錯吃\")\n",
        "    print(\"結果頭抬起來\")\n",
        "    print(\"發現這只是場夢\")\n",
        "    print(\"你的狗狗躺在你臉上睡得很好\")\n",
        " "
      ],
      "execution_count": null,
      "outputs": [
        {
          "output_type": "stream",
          "text": [
            "嗨你好請問你是2\n",
            "你好2你怎麼會出現在這裡?是發生甚麼事嗎?\n",
            "主角回:我的狗不見了你有看到一隻哈士奇嗎?\n",
            "他在前面那個岔路出現過\n",
            "到了岔路後要走(A or Ｂ)B\n",
            "走了一小段路後突然有人攔住說\n",
            "你是來找狗的嗎？如果是的話要在之前那個岔路往A走\n",
            "主角：好那我走回去看看\n",
            "請重新開始\n"
          ],
          "name": "stdout"
        }
      ]
    },
    {
      "cell_type": "code",
      "metadata": {
        "id": "NpepvmFpS5NK"
      },
      "source": [
        ""
      ],
      "execution_count": null,
      "outputs": []
    }
  ]
}