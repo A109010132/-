{
  "nbformat": 4,
  "nbformat_minor": 0,
  "metadata": {
    "colab": {
      "name": "「劉凡瑋-wekk12-隨堂練習-Untitled」的副本",
      "provenance": [],
      "authorship_tag": "ABX9TyOcsYMMWYZgAoydqz/EwO9h",
      "include_colab_link": true
    },
    "kernelspec": {
      "name": "python3",
      "display_name": "Python 3"
    },
    "language_info": {
      "name": "python"
    }
  },
  "cells": [
    {
      "cell_type": "markdown",
      "metadata": {
        "id": "view-in-github",
        "colab_type": "text"
      },
      "source": [
        "<a href=\"https://colab.research.google.com/github/A109010132/-/blob/main/%E3%80%8C%E5%8A%89%E5%87%A1%E7%91%8B_wekk12_%E9%9A%A8%E5%A0%82%E7%B7%B4%E7%BF%92_Untitled%E3%80%8D%E7%9A%84%E5%89%AF%E6%9C%AC.ipynb\" target=\"_parent\"><img src=\"https://colab.research.google.com/assets/colab-badge.svg\" alt=\"Open In Colab\"/></a>"
      ]
    },
    {
      "cell_type": "code",
      "metadata": {
        "colab": {
          "base_uri": "https://localhost:8080/"
        },
        "id": "iym04CeBuInX",
        "outputId": "f181bb46-2bc2-4802-b78a-2880be20efa0"
      },
      "source": [
        "num=5\n",
        "if num > 0:\n",
        "     print(\"the number is positive\")\n",
        "     print(\"finish\")\n",
        "     "
      ],
      "execution_count": null,
      "outputs": [
        {
          "output_type": "stream",
          "text": [
            "the number is positive\n",
            "finish\n"
          ],
          "name": "stdout"
        }
      ]
    },
    {
      "cell_type": "code",
      "metadata": {
        "colab": {
          "base_uri": "https://localhost:8080/"
        },
        "id": "mHKQyCluuaaa",
        "outputId": "e516d1b0-b6d5-4c18-80ef-cbd8765613d7"
      },
      "source": [
        "num = int(input(\"請輸入一個數字: \"))\n",
        "if num > 0:\n",
        "  print(\"the number is positive\")\n",
        "if num < 0:\n",
        "  print(\"the number is negative\")\n",
        "if num == 0:\n",
        "  print(\"the number is zero\")\n",
        "  print(\"finish\")\n"
      ],
      "execution_count": null,
      "outputs": [
        {
          "output_type": "stream",
          "text": [
            "請輸入一個數字: 0\n",
            "the number is zero\n",
            "finish\n"
          ],
          "name": "stdout"
        }
      ]
    },
    {
      "cell_type": "code",
      "metadata": {
        "colab": {
          "base_uri": "https://localhost:8080/"
        },
        "id": "ewqT8wQE2f1U",
        "outputId": "ce814565-77b1-4bea-cdad-ca97e504e109"
      },
      "source": [
        "price = int(input('請輸入一個價格'))\n",
        "if price >= 2000:\n",
        "  print('打9折呦')\n",
        "if price < 2000:\n",
        "  print('沒打折呦')  "
      ],
      "execution_count": 1,
      "outputs": [
        {
          "output_type": "stream",
          "text": [
            "請輸入一個價格2220\n",
            "打9折呦\n"
          ],
          "name": "stdout"
        }
      ]
    }
  ]
}