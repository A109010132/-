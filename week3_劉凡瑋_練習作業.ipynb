{
  "nbformat": 4,
  "nbformat_minor": 0,
  "metadata": {
    "colab": {
      "name": "week3-劉凡瑋-練習作業.ipynb",
      "provenance": [],
      "authorship_tag": "ABX9TyN5BQfKVxs7hXoG4NUZfg5n",
      "include_colab_link": true
    },
    "kernelspec": {
      "name": "python3",
      "display_name": "Python 3"
    }
  },
  "cells": [
    {
      "cell_type": "markdown",
      "metadata": {
        "id": "view-in-github",
        "colab_type": "text"
      },
      "source": [
        "<a href=\"https://colab.research.google.com/github/A109010132/-/blob/main/week3_%E5%8A%89%E5%87%A1%E7%91%8B_%E7%B7%B4%E7%BF%92%E4%BD%9C%E6%A5%AD.ipynb\" target=\"_parent\"><img src=\"https://colab.research.google.com/assets/colab-badge.svg\" alt=\"Open In Colab\"/></a>"
      ]
    },
    {
      "cell_type": "code",
      "metadata": {
        "id": "luHudTh1NUfA"
      },
      "source": [
        ""
      ],
      "execution_count": null,
      "outputs": []
    },
    {
      "cell_type": "markdown",
      "metadata": {
        "id": "879UcNC9NsUE"
      },
      "source": [
        "#隨堂練習"
      ]
    },
    {
      "cell_type": "code",
      "metadata": {
        "colab": {
          "base_uri": "https://localhost:8080/"
        },
        "id": "zdEV8r9cNzsi",
        "outputId": "f310a827-0a83-4f98-f579-06f63b9bcc1a"
      },
      "source": [
        "print(1+1)"
      ],
      "execution_count": 2,
      "outputs": [
        {
          "output_type": "stream",
          "text": [
            "2\n"
          ],
          "name": "stdout"
        }
      ]
    },
    {
      "cell_type": "markdown",
      "metadata": {
        "id": "Kgd2YN2ZOgcE"
      },
      "source": [
        "#課後練習"
      ]
    },
    {
      "cell_type": "markdown",
      "metadata": {
        "id": "VzgJHvD5P5hM"
      },
      "source": [
        "課後練習則為從一則新聞報導，提出你對新聞系學生為什麼要學「運算思維與程式設計」的見解。（告訴我新聞連結，以及你的觀點即可。）"
      ]
    },
    {
      "cell_type": "markdown",
      "metadata": {
        "id": "WZ45IwivQdY-"
      },
      "source": [
        "https://medium.com/dd-story-hub/p-%E5%AF%A6%E7%BF%92%E7%B6%93%E9%A9%97%E8%AB%87-%E6%96%B0%E8%81%9E%E7%B7%A8%E8%BC%AF%E7%82%BA%E4%BB%80%E9%BA%BC%E8%A6%81%E5%AD%B8%E7%A8%8B%E5%BC%8F%E8%A8%AD%E8%A8%88-bb375fc83bf6"
      ]
    },
    {
      "cell_type": "markdown",
      "metadata": {
        "id": "5HwX9b8VQhmV"
      },
      "source": [
        "可以更有效率的分析資訊，讓我們可以理解基本的數據統計和新聞的關聯"
      ]
    },
    {
      "cell_type": "code",
      "metadata": {
        "id": "DQ4ETEIpQ6YZ"
      },
      "source": [
        ""
      ],
      "execution_count": null,
      "outputs": []
    }
  ]
}